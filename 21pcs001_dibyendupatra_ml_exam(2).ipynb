{
 "cells": [
  {
   "cell_type": "code",
   "execution_count": 16,
   "id": "210d5850",
   "metadata": {},
   "outputs": [],
   "source": [
    "import os\n",
    "import pandas as pd\n",
    "import numpy as np\n",
    "import nltk"
   ]
  },
  {
   "cell_type": "code",
   "execution_count": 20,
   "id": "eb00aff9",
   "metadata": {},
   "outputs": [
    {
     "name": "stderr",
     "output_type": "stream",
     "text": [
      "[nltk_data] Downloading package stopwords to /home/user/nltk_data...\n",
      "[nltk_data]   Unzipping corpora/stopwords.zip.\n"
     ]
    },
    {
     "data": {
      "text/plain": [
       "True"
      ]
     },
     "execution_count": 20,
     "metadata": {},
     "output_type": "execute_result"
    }
   ],
   "source": [
    "nltk.download('stopwords')"
   ]
  },
  {
   "cell_type": "code",
   "execution_count": 6,
   "id": "24b0f423",
   "metadata": {},
   "outputs": [],
   "source": [
    "data=open(\"dataset3.txt\",\"r\")"
   ]
  },
  {
   "cell_type": "code",
   "execution_count": 12,
   "id": "baef0435",
   "metadata": {},
   "outputs": [],
   "source": [
    "da=data.read()"
   ]
  },
  {
   "cell_type": "markdown",
   "id": "192da2cb",
   "metadata": {},
   "source": [
    "# Text Preprocessing"
   ]
  },
  {
   "cell_type": "code",
   "execution_count": 14,
   "id": "0eaf40cb",
   "metadata": {},
   "outputs": [],
   "source": [
    "all_data=[]\n",
    "for i in da.split(\"\\n\"):\n",
    "    all_data.append(i)"
   ]
  },
  {
   "cell_type": "code",
   "execution_count": 18,
   "id": "fa003cb9",
   "metadata": {},
   "outputs": [],
   "source": [
    "from nltk.corpus import stopwords"
   ]
  },
  {
   "cell_type": "code",
   "execution_count": 22,
   "id": "b3ea999d",
   "metadata": {},
   "outputs": [],
   "source": [
    "stop=stopwords.words(\"english\")"
   ]
  },
  {
   "cell_type": "markdown",
   "id": "2943d2e5",
   "metadata": {},
   "source": [
    "# Removing stopwords and convert into lower"
   ]
  },
  {
   "cell_type": "code",
   "execution_count": 74,
   "id": "23f219f3",
   "metadata": {},
   "outputs": [],
   "source": [
    "stoprev_sen=[]\n",
    "for sentence in all_data:\n",
    "    real_sen=\"\"\n",
    "    for word in sentence.split(\" \"):\n",
    "        if word not in stop:\n",
    "            real_sen=real_sen+\" \"+word.lower()\n",
    "    stoprev_sen.append(real_sen)"
   ]
  },
  {
   "cell_type": "markdown",
   "id": "428e9ce6",
   "metadata": {},
   "source": [
    "# Removing special character"
   ]
  },
  {
   "cell_type": "code",
   "execution_count": 32,
   "id": "77f03204",
   "metadata": {},
   "outputs": [],
   "source": [
    "import re"
   ]
  },
  {
   "cell_type": "code",
   "execution_count": 50,
   "id": "79472322",
   "metadata": {},
   "outputs": [],
   "source": [
    "emoji_pattern = re.compile(\"[\"\n",
    "        u\"\\U0001F600-\\U0001F64F\"  # emoticons\n",
    "        u\"\\U0001F300-\\U0001F5FF\"  # symbols & pictographs\n",
    "        u\"\\U0001F680-\\U0001F6FF\"  # transport & map symbols\n",
    "        u\"\\U0001F1E0-\\U0001F1FF\"  # flags (iOS)\n",
    "                           \"]+\", flags=re.UNICODE)\n"
   ]
  },
  {
   "cell_type": "code",
   "execution_count": 75,
   "id": "b2ff17c3",
   "metadata": {},
   "outputs": [],
   "source": [
    "pun_rev=[]\n",
    "for i in stoprev_sen:\n",
    "    i=re.sub('[!|@|#|.|?]',\"\",i)\n",
    "    i=re.sub('[\\\\|🇺🇸|\"\"|...]',\"\",i)\n",
    "    i=re.sub('[^A-Za-z]',\" \",i)\n",
    "    i=emoji_pattern.sub(r'', i)\n",
    "    pun_rev.append(i)"
   ]
  },
  {
   "cell_type": "code",
   "execution_count": 76,
   "id": "d0df962e",
   "metadata": {},
   "outputs": [
    {
     "data": {
      "text/plain": [
       "[' satellite commissioned facebook exploded spacex rocket cape canaveral incident',\n",
       " ' spacex explosion destroys facebook satellite   wsj   this good thing',\n",
       " ' how insure satellites   rockets laurent lemaire  ceo elseco one insurers watch ',\n",
       " ' musk offers mars vision reusable rockets           fares spacex travel',\n",
       " ' ensuring arts   culture reach mars we right brained space explorers spacex',\n",
       " ' idk      million fb satellite help africa secure triad china holdings',\n",
       " ' spacex runs down all rocket explosion leads  sabotage weekly best socaltech',\n",
       " ' spacex falcon   explosion sabotage unlikely  but snipers here s who related articles ',\n",
       " ' shotwell says spacex  homing in  cause falcon   pad',\n",
       " ' spacex s president talks falcon   investigation  reusability broadband satellite constellation ',\n",
       " ' shotwell says spacex homing in cause falcon   pad explosion space',\n",
       " ' shotwell says still working constellation about       satellites provide broadband internet ',\n",
       " ' shotwell says spacex  homing in  cause falcon   pad explosion  ',\n",
       " ' shotwell says spacex  homing in  cause falcon   pad explosion',\n",
       " ' spacex close unlocking explosion falcon   news russia',\n",
       " ' nasa recently released mars needs you posters race on   boeing spacex  laid plans',\n",
       " ' nasa recently released mars needs you posters race on   boeing spacex  laid plans htt ',\n",
       " ' shotwell says spacex  homing in  cause falcon   pad explosion   via',\n",
       " ' shotwell says spacex  homing in  cause falcon   pad explosion ',\n",
       " ' spacex getting closer t space news',\n",
       " ' spacex  rocket carrying satellite provide internet access africa  could been',\n",
       " ' shotwell says spacex  homing in  cause falcon   pad explosion   vi ',\n",
       " ' spacex scouring data clues launch pad explosion military',\n",
       " ' we need figure improve cost getting mars     million percent   spacex   timeline',\n",
       " ' spacex reportedly investigating sabotage cause falcon   explosion related articles ',\n",
       " ' spacex s explosion reverberates across space  satellite  telecom industries ',\n",
       " ' spacex investigation suggests helium breach caused falcon   explosion',\n",
       " ' spacex answers what ',\n",
       " ' sabotage speculation gathers around spacex explosion swaaap illuminati',\n",
       " ' spacex s falcon   explosion  proxima b seti  listen tcbc episode   emily calandrelli  ',\n",
       " ' shotwell says spacex  homing in  cause falcon   pad explosion   v a',\n",
       " ' falcon   pad explosion highlights unique aspect spacex launch campaigns   v a',\n",
       " ' shotwell says spacex  homing in  cause falcon   pad explosion  esist via',\n",
       " ' spacex president shotwell  spacex  homing in  cause falcon  pad explosion via spacenewscom',\n",
       " ' spacex  s falcon   explosion likely caused breached helium system   the verge',\n",
       " ' the plot thickens',\n",
       " ' spacex resorts  creative  testing falcon   explosion investigation  ',\n",
       " ' shotwell says  homing in  cause falcon  pad explosion newspace by ',\n",
       " ' people want iphones mars',\n",
       " ' spacex  homing in  cause falcon   explosion  ',\n",
       " ' space  shotwell says spacex  homing in  cause falcon   pad explosion ',\n",
       " ' shotwell says spacex  homing in  cause falcon   pad',\n",
       " '     top us tech companies founded  st    nd generation immigrants ',\n",
       " ' apple',\n",
       " ' google',\n",
       " ' facebook',\n",
       " ' amazon',\n",
       " ' ibm',\n",
       " ' oracle',\n",
       " ' yahoo',\n",
       " ' u ',\n",
       " ' shotwell says',\n",
       " ' spacex  homing in  cause falcon   pad explosion   via',\n",
       " ' space astronomy science shotwell says spacex  homing in  cause falcon   pad explosion',\n",
       " ' shotwell says spacex  homing in  cause falcon   pad explosion via  r space',\n",
       " ' spacex resorts  creative  testing falcon   explosion investigation',\n",
       " '  hot now  mysterious explosion of falcon   has spacex speculating on  te related articles ',\n",
       " ' spacex vs united launch alliance  theories that spacex was sabotaged are surfacing',\n",
       " ' spacex vs united launch alliance  theories that spacex was sabotaged are surfacing  theories united laun',\n",
       " ' technology spacex vs united launch alliance  theories that spacex was sabotaged are surfacing',\n",
       " ' space insurers warn current low rates n via',\n",
       " ' elon musk reveals big plan colonizing mars',\n",
       " ' spacex vs united launch alliance  theories that spacex was sabotaged are surfacing',\n",
       " ' looks like tweet reached        rts',\n",
       " ' is elon musk another crony capitalist tesla spacex',\n",
       " ' tesla boot musk he demagogue long words short profits spacex follow business ',\n",
       " ' we beat spacex mars   boeing',\n",
       " ' elon musk says spacex s new spaceship could go  well beyond mars    mars  elonmusk  spacex',\n",
       " ' sabotage rocket unlikely  article great theories tongue cheek',\n",
       " ' landing  s falcon   rocket    video mobilevr spacex virtualreality vr',\n",
       " '  spacex resorts  creative  testing falcon   explosion',\n",
       " ' the full story mindblowing rocket   announced might end one day',\n",
       " ' spacex interplanetary transport system   minute overview worth watch if want see full video    ',\n",
       " ' hurricane matthew pounded nasa spacex buildings florida   here s damage looks like',\n",
       " ' nasa checks up on damage at kennedy space center after hurricane ma via spacex',\n",
       " ' bazingafeed   locura spacex planea enviar humanos marte en     ',\n",
       " ' hurricane matthew pounded nasa spacex buildings florida   here s th',\n",
       " ' now tracking  spacex vs unitedlaunchalliance  theories that spacex was sabotaged are surfacing',\n",
       " ' fresh setitalks  pete worden spacex science',\n",
       " ' the race mars begun the boeing ceo believes beat mars  via',\n",
       " ' the race to mars between boeing and spacex has begun',\n",
       " ' new post  hurricane matthew pounded nasa spacex buildings florida   here s damage looks like',\n",
       " ' boeing ceo  first people mars arrive boeing rocket',\n",
       " '  spacex fans ',\n",
       " ' reddit user kona    compiled chart static fires w wo payloads',\n",
       " ' we beat spacex mars   boeing via',\n",
       " ' spacex propulsion achieved first firing raptor interplanetary transport engine',\n",
       " ' done with credit going researcher',\n",
       " ' the race to mars between boeing and spacex has begun   ca via',\n",
       " ' now tracking  spacex hoodie',\n",
       " ' spacex founder musk endeavors find perfect starship name related articles ',\n",
       " ' lawmakers say spacex rocket explosion investigation  polit related articles ',\n",
       " ' boeing spacex aren t going anywhere without biotechnology  fox busi related articles ',\n",
       " '   the future now  watch spacex falcon   rocket coming landing       spacex youtube ',\n",
       " ' hurricane matthew damaged nasa spacex buildings   here s looks like',\n",
       " ' i liked video minecraft far lands bust         spacex tour',\n",
       " ' musk s spacex spaceship take us marsand beyond via',\n",
       " ' trump said american dream dead then usa  company like spacex build launch rockets space  and ',\n",
       " ' spacex s big fucking rocket   the full story   wait but why via',\n",
       " ' now tracking  shotwell says spacex  homing in  cause falcon  pad explosion',\n",
       " ' we discuss spacex taking planetaryprotection seriously enough interplanetarytransportsystem elonmusk mars',\n",
       " ' spacex s elon musk makes high stakes pitch    year plan colonize mars',\n",
       " ' learn liberty  elon musk capitalist hero  h via',\n",
       " ' british illustrator created illustrations early base mars for',\n",
       " ' spacex latest venture propose humans to mars plan but business case efforts',\n",
       " ' will interplanetarytransportsystem make spacelaunchsystem redundant spacex nasa elonmusk rockets',\n",
       " ' check it',\n",
       " ' hey   applying college interested  check quora thread htt ',\n",
       " ' sabotage speculation gathers around spacex explosion',\n",
       " ' we finally know bit spacex falcon   explosion falcon  spacex nasa space via',\n",
       " ' satellite owner says spacex owes     million free flight atlantaleadgeneration leadvalet',\n",
       " ' breaking news  spacex finally found root cause rocket explosion via  r jokes',\n",
       " ' technews spacex falcon     theories united launch alliance initiated sabotage carry weigh',\n",
       " ' spacex resorts  creative  testing falcon   explosion investigation  cont ',\n",
       " ' spacex falcon     theories united launch alliance initiated sabotage carry weight  following rocke',\n",
       " ' spacex investigation pad explosion continues company s payload processing facility takes hit hurricane ',\n",
       " ' spacex investigation pad explosion continues company s payload processing facility takes hit hurricane htt ',\n",
       " ' spacex falcon   explosion sabotage unlikely  but snipers here s who related articles ',\n",
       " ' shotwell says spacex  homing in  cause falcon   pad explosion   v ',\n",
       " ' was spacex sabotaged questions mount over explosion',\n",
       " ' sounds like vehicle issue  tricky management thermal stresses novel ground ops  spacex it',\n",
       " ' spacex explosion mystery about to be solved  says firm s president  the investigation explosion the',\n",
       " ' now tracking  spacex explosion mystery about to be solved  says firm s president',\n",
       " ' explosion spacex explosion mystery about to be solved  says firm s president   itech post',\n",
       " ' hope offered insurance package',\n",
       " ' awesome view   spacex grasshopper rocket reaches     meters',\n",
       " ' news explosion spacex explosion mystery about to be solved  says firm s president   itech post  itech posts',\n",
       " ' explosion mystery about to be solved  says firm s president',\n",
       " ' spacex rocket explodes launchpad elonmusk facebook vc funding startup vc',\n",
       " ' for week s spacex jay ryan lali morris join us',\n",
       " ' jay ryan  pig nut productions  former member',\n",
       " ' spacex rocket explodes  israeli satellite board destroyed    i knew facebook satellite  know ',\n",
       " ' now tracking  spacex explosion  company president hopes to be back in action by the end of the year ',\n",
       " ' spacex resorts  creative  testing falcon   explosion investigation  ',\n",
       " ' spacex explosion  company president hopes to be back in action by the end of the year   in handout pr',\n",
       " ' spacex s falcon   rocket explosion  news  updates  analysis',\n",
       " ' spacex explosion mystery about to be solved  says firm s president',\n",
       " ' spacex eyed rival  s building rocket explosion probe',\n",
       " ' spacex investigation pad explosion continues company s payload processing facility takes hit hurricane htt ',\n",
       " ' spacex explosion destroys satellite  sets back facebook s internet push africa',\n",
       " ' spacex vs united launch alliance  theories that spacex was sabotaged are surfacing',\n",
       " ' politics ramp spacex explosion investigation related articles ',\n",
       " ' spacex  falcon   exploded helium system breach via',\n",
       " ' spacex falcon   rocket exploded  people ask',\n",
       " ' spacex explosion destroys satellite          ',\n",
       " ' spacex resorts  creative  testing falcon   explosion investigation  ',\n",
       " ' shotwell says spacex  homing in  cause falcon   pad explosion  ',\n",
       " ' spacex resorts  creative  testing falcon   explosion investigation  welcome r spacex  premier sp',\n",
       " ' no  obama set mission  private industry   spacex  blue origin others  capitalism leads ',\n",
       " ' shotwell says spacex  homing in  cause falcon   pad explosion   via',\n",
       " ' retweeted eric berger story starliner s delay includes comment spacex',\n",
       " ' obama says private public cooperation get us mars the     s spacetech spacex musk',\n",
       " ' torybruno comments spacex resorts  creative  testing falcon   explosion investigation via',\n",
       " ' elon musk reveals big plan colonizing mars',\n",
       " ' picture day  ',\n",
       " ' simple that  mars vehicle comparison international space station  iss    ',\n",
       " ' pays tribute  hitchhiker s guide galaxy  spacex ship name ',\n",
       " ' i love  ceo spacex s competitor randomly drops knowledge spacex',\n",
       " ' i m including list     mars startup ideas book so much potential mars space earth',\n",
       " ' from processing facility lost several panels hurricanematthew',\n",
       " ' a new private space race ceo says he ll beat spacex to mars space technology    ',\n",
       " ' interplanetary transport system mars',\n",
       " ' hi tech gauze could heal wounded mars astronauts',\n",
       " ' elon musk  a million humans could live mars by     s',\n",
       " ' elon musk spacex s alluring mars posters will make you want move red planet via',\n",
       " ' when matthew met nasa  hurricane damages important nasa  spacex buildings',\n",
       " ' spacex responds president obama s call human mission mars by',\n",
       " ' china s private space industry prepares compete',\n",
       " ' jupiter awesome',\n",
       " ' hurricane matthew pounded nasa spacex buildings florida   here s damage looks like',\n",
       " '    elon musk  tesla  spacex  quest fantastic future',\n",
       " ' spaceflight industries signs google s terra bella satellite launch spacex rocket  an artist s conce',\n",
       " ' gw  spaceflight industries signs google s terra bella satellite launch spacex rocket',\n",
       " ' women in spacex  nasa  space industry calls for gender diversity and visibility for stem  university herald  ',\n",
       " ' spaceflight industries signs google s terra bella satellite launch spacex rocket',\n",
       " ' gods new words mankind innovation spacex seattle god jesus sanfrancisco lgbt sia dwts steelers rams',\n",
       " ' obama comes like he s me too ing plan unveiled recently tbh',\n",
       " ' spacex still expects resume launches end year   spaceflight now',\n",
       " ' spacex responds president obama s call human mission mars',\n",
       " ' spaceflight signs google s terra bella satellite launch spacex rocket  seattle ',\n",
       " ' spaceflight signs google s terra bella satellite launch spacex rocket',\n",
       " ' why it takes a big rocket to reach mars  spacex s mars rocket huge it to  tech',\n",
       " ' spaceflight signs google s terra bella satellite launch spacex rocket sobx tech',\n",
       " ' help debate spacex getmeoffthisplanet movingtomars',\n",
       " ' geekwire spaceflight industries signs google s terra bella satellite launch spacex rocket  ',\n",
       " ' spaceflight signs terra bella satellite launch',\n",
       " ' hurricane matthew tore  school bus  size holes building spacex uses  via science',\n",
       " ' spaceflight signs google s terra bella satellite launch spacex rocket via',\n",
       " ' china s private space indsutry prepares compete spacex and',\n",
       " ' spacex try send docking ring space taxis station   elon musk s spacex make a spacex',\n",
       " ' hurricane matthew tore bus size holes building spacex uses prepare spacecraft via',\n",
       " ' elon musk unveils spacex s ambitious mars colony pl via',\n",
       " ' now tracking  spacex falconheavy',\n",
       " ' visions future mars spaceexploration obama nasa spacex',\n",
       " ' first test raptor interplanetary transport engine',\n",
       " ' visions future mars     nasa obama spaceexploration spacex tech',\n",
       " ' check new video ila     starburst aerospace accelerator grifols',\n",
       " ' the spacex explosion',\n",
       " ' new post blog  kennedy space center  spacex facilities damaged hurricane matthew',\n",
       " ' fedtech spaceflight industries signs google s terra bella satellite launch spacex rocket',\n",
       " ' fedtech spaceflight signs google s terra bella satellite launch spacex rocket',\n",
       " ' surfaces twitter s shared spacex content like elonmusk',\n",
       " ' visions future mars  mashable  spaceexploration obama nasa spacex',\n",
       " ' obama talks nasa s vision mars via',\n",
       " ' realestate   industries   hurricane matthew tore  school realestate',\n",
       " ' spacex successfully lands rocket floating drone ship    drones droneoftheday droneship drone',\n",
       " ' spacex successfully lands rocket floating drone ship    spacex drones droneoftheday droneship drone',\n",
       " ' presentation archived video available at',\n",
       " ' the hyperloop pod competition months away support vichyper s crowdfunding page   ',\n",
       " ' goal     people trip  eventually more',\n",
       " ' spacex s interplanetary transport system  space spacex mars elonmusk',\n",
       " ' ufosfacts spacex falcon   explosion caused by unsafe material used for external fuel pipeline',\n",
       " ' spacex falcon   explosion  caused by unsafe material used for external fuel pipeline',\n",
       " ' shotwell says  homing in  on cause falcon  pad explosion',\n",
       " ' shotwell says spacex  homing in  on cause falcon   pad explosion',\n",
       " ' shotwell says spacex  homing in  on cause falcon   pad explosion  spacex getting closer finding cause ',\n",
       " ' truthhertz if outer space stuff this channel shotwell says spacex  homing in  on cause ',\n",
       " ' check link',\n",
       " ' shotwell says spacex  homing in  on cause falcon   pad explosion',\n",
       " ' shotwell says spacex  homing in  cause falcon   pad explosion news',\n",
       " ' shotwell says spacex  homing in  on cause falcon   pad explosion  spacex getting closer finding ',\n",
       " ' shotwell says spacex  homing in  on cause falcon   pad explosion  spacex getting closer find scitwt',\n",
       " '  shotwell says spacex  homing in  on cause falcon   pad explosion  spacex getting closer fin space',\n",
       " ' shotwell says spacex  homing in  on cause falcon   pad explosion  spacex getting closer fin science',\n",
       " ' space  shotwell says spacex  homing in  on cause falcon   pad explosion',\n",
       " '  shotwell says spacex  homing in  on cause falcon   pad explosion',\n",
       " ' shotwell says spacex  homing in  on cause falcon   pad explosion space',\n",
       " ' shotwell says spacex  homing in  on cause falcon   pad explosion via',\n",
       " ' shotwell says spacex  homing in  on cause falcon   pad explosion  spacex getting closer f spacenews',\n",
       " ' space  shotwell says spacex  homing in  on cause falcon   pad explosion  spacex getting closer findi',\n",
       " ' shotwell says spacex  homing in  on cause falcon   pad explosion  spacex gettin',\n",
       " ' shotwell says spacex  homing in  on cause falcon   pad explosion  spacex getting closer space awesome',\n",
       " ' ufah shotwell says spacex  homing in  on cause falcon   pad explosion  spacex getting closer findin',\n",
       " ' shotwell says spacex  homing in  on cause falcon   pad explosion   newsonline',\n",
       " ' shotwell says spacex  homing in  on cause falcon   pad explosion',\n",
       " ' shotwell says spacex  homing in  on cause falcon   pad explosion ',\n",
       " ' explosion pad we wish best  hope safe',\n",
       " ' shotwell says spacex  homing in  on cause falcon   pad explosion',\n",
       " ' spacex falcon   explosion caused by unsafe material used for external fuel pipeline  video   via',\n",
       " ' meet wcw october      member spotlight  nicole depee',\n",
       " ' outside league works spacex a',\n",
       " ' space  shotwell says spacex  homing in  on cause falcon   pad explosion  spacex getting closer findi',\n",
       " ' shotwell says spacex  homing in  on cause falcon   pad explosion  spacex getting closer finding cause ',\n",
       " ' shotwell says spacex  homing in  on cause falcon   pad explosion space',\n",
       " ' shotwell says spacex  homing in  on cause falcon   pad explosion lln',\n",
       " ' shotwell says spacex  homing in  on cause falcon   pad explosion lln  lln',\n",
       " ' shotwell says spacex  homing in  on cause falcon   pad explosion lln  news',\n",
       " ' spacex rocket explodes launchpad elonmusk facebook vc funding startup vc',\n",
       " ' spacex reportedly investigating sabotage possible cause falcon   explosion ',\n",
       " ' shotwell says spacex  homing in  on cause falcon   pad explosion',\n",
       " ' shotwell says spacex  homing in  on cause falcon   pad',\n",
       " ' shotwell says spacex  homing in  on cause falcon  pad explosion',\n",
       " ' techjunkiejh elon musk   we have not ruled out  that ufo caused spacex explosion',\n",
       " ' spacex resorts  creative  testing falcon   explosion investigation   falcon     amos  ',\n",
       " ' shotwell   spacex homing cause falcon  pad explosion via',\n",
       " ' spacex rips facebook dream   blows      million satellite    tech tech technology',\n",
       " ' shotwell says spacex  homing in  on cause falcon   pad explosion via',\n",
       " ' shotwell says spacex  homing in  cause falcon   pad explosion',\n",
       " ' tfw goldy caused spacex explosion',\n",
       " ' shotwell says spacex  homing in  cause falcon   pad explosion news',\n",
       " ' shotwell says  homing in  on cause falcon  pad explosion',\n",
       " ' google spacedotcom  shotwell says spacex  homing in  on cause falcon  pad explosion',\n",
       " ' spacedotcom  shotwell says spacex  homing in  on cause falcon  pad explosion',\n",
       " ' the spacex explosion',\n",
       " ' spacex closer determining cause explosion sniper',\n",
       " ' spacex identifies possible cause of rocket explosion  anticipates november launch  ',\n",
       " ' mission mars  here are all red planet plans works',\n",
       " ' htt ',\n",
       " ' seeker  here s breakdown spacex s interplanetary transport system elon musk s  ',\n",
       " ' hurricane matthew tore bus size holes building spacex uses prepare spacecraft via ',\n",
       " ' obama     s dream mars corporate  b space  b  race  elonmusk',\n",
       " ' spacex ceo elon musk done  real  iron man several favors   recode science',\n",
       " ' congrats  r spacex  making subreddit day  feel free celebrate     extra minutes ',\n",
       " '    on ',\n",
       " ' spacex ceo elon musk done  real  iron man several favors   recode',\n",
       " '    on',\n",
       " ' how obama brought capitalism outer space   the wa via',\n",
       " ' spacex ceo elon musk done  real  iron man several fa via',\n",
       " ' petition   president obama  please decla via',\n",
       " ' mission mars  here are all red planet plans i via',\n",
       " ' don t miss elon s wild ride  biographer ashlee vance s inside look troubles tesla  spacex  solarcity',\n",
       " ' private space efforts  like spacex glxp teams  fueling new space era ',\n",
       " '  spacex fans ',\n",
       " ' spacex responds pres obama s call human mission bad potus did ',\n",
       " ' profile entrepreneur   elon musk spacex   amazing interview  ',\n",
       " ' obama talks spacex mission mars',\n",
       " ' how  actually  sub cooled propellants reduce cavitation within turbo pumps make feed easier spacex',\n",
       " ' obama s dream mars corporate space race space',\n",
       " ' how save         your spacex ticket mars',\n",
       " ' spacex mission mars  what you need know',\n",
       " ' can imagine saying farewell first mars colonists what trip spacex',\n",
       " ' obama s dream mars corporate space race via',\n",
       " ' sale',\n",
       " ' holograms holographic hololens oculusrift htcvive',\n",
       " ' mars spacex     vir ',\n",
       " ' now tracking  how save         for your spacex ticket mars',\n",
       " ' natureworldnews  insane impressive what experts think spacexs plans colonize',\n",
       " ' via we re taking google s satellites space wanna come bookyourride',\n",
       " ' here s breakdown spacex s interplanetary transport system elon musk s broader mars ambitions',\n",
       " ' elon musk saddened ex governor romney             spacex',\n",
       " ' like spacex get limited edition  the falcon has landed  shirt hoodie only available here',\n",
       " ' dragon is getting ready for astronauts   in photos a look inside spacex s crewed dragon spacecraft innovation',\n",
       " ' mission mars  here are all red planet plans works',\n",
       " ' dragon is getting ready for astronauts   a look inside spacex s crewed dragon spacecraft',\n",
       " ' obama talks spacex mission mars  just morning  president obama published op ed cnn  calling for ',\n",
       " ' haven t read book  i retweet terrific sf art scifi scifiart nasa spacex',\n",
       " ' i added video playlist  k footage  spacex launches',\n",
       " '   enterprises  who spacex  using  d printing reach space',\n",
       " ' obama s dream mars corporate space race   fusion',\n",
       " ' a look inside spacex s crewed dragon spacecraft ictafrica',\n",
       " ' neues texturenpack    spaceschnittchen  road to    k    via',\n",
       " ' obama talks spacex mission mars   i u news   i u news obama talks spacex mission mars i u news just ',\n",
       " ' spacex responds president obama s call human mission mars',\n",
       " ' goal     people trip  eventually more',\n",
       " ' interplanetary spaceship arriving mars',\n",
       " ' future mars mission departing historic pad   a kennedy space center',\n",
       " ' presentation beginning shortly at',\n",
       " '  please retweet  spacex ceo elon musk done  real  iron man several favors   recode',\n",
       " ' elon musk says spacex  s new spaceship could go   well beyond mars  ',\n",
       " ' spacex ceo elon musk done  real  iron man several favors via',\n",
       " ' spacex still expects resume launches end of via',\n",
       " ' elon musk lays plan put humans mars',\n",
       " ' mangatki',\n",
       " ' elon musk  spacex rocket explosion  most difficult  failure    years    cnnmoney',\n",
       " ' spacex indicates  business process issue  may have led to explosion',\n",
       " ' spacex investigating industry competitors  sabotage after its falcon   explosion',\n",
       " ' elon musk   we have not ruled out  that ufo caused space x explosion  video   via',\n",
       " ' after baffling falcon   rocket explosion  spacex screams  hands probe infosec via',\n",
       " ' retweeted universe today space coast launch facilities escape hurricane matthew s',\n",
       " ' spacex resorts  creative  testing falcon   explosion investigation via',\n",
       " ' after baffling falcon   rocket explosion  spacex screams  hands probe  via',\n",
       " ' shotwell says spacex  homing in  cause falcon   pad explosion   via',\n",
       " ' spacex  falcon   exploded helium system breach',\n",
       " ' shotwell says spacex  homing in  cause falcon   pad explosion news',\n",
       " ' new report suggests spacex suspects competitor sabotage rocket explosion via',\n",
       " ' shotwell says  homing in  on cause falcon  pad explosion',\n",
       " ' spacedotcom  shotwell says spacex  homing in  on cause falcon  pad explosion',\n",
       " ' fake  spacex explosion fake ufo eng via faked ufo footage spacex falcon  explosion',\n",
       " ' shotwell says spacex  homing in  cause falcon   pad explosion',\n",
       " ' google spacedotcom  shotwell says spacex  homing in  on cause falcon  pad explosion',\n",
       " ' fake  spacex explosion fake ufo eng  via faked ufo footage spacex falcon  explosion',\n",
       " ' everything we know about the spacex rocket explosion sabotage theory',\n",
       " ' fake  spacex explosion fake ufo eng via',\n",
       " ' fake  spacex explosion fake ufo eng via share please',\n",
       " ' spacex latest theory falcon  explosion ',\n",
       " ' formation solid oxygen copv carbon over wra ',\n",
       " ' formation solid oxygen copv carbon',\n",
       " ' spacex identifies possible cause of rocket explosion  anticipates november launch  ',\n",
       " ' shotwell says spacex  homing in  on cause falcon   pad explosion via',\n",
       " ' spacex rocket explodes launchpad elonmusk facebook vc funding startup vc',\n",
       " ' we finally know bit spacex falcon   explosion falcon  spacex nasa space via',\n",
       " ' elon musk how the billionaire ceo of spacex and tesla is shapi available     ',\n",
       " ' a brief history humans yet step foot mars   space science tech future',\n",
       " ' interplanetary transport system mars',\n",
       " ' poweeeeeeer',\n",
       " ' spacex successfully lands rocket floating drone ship    spacex drones droneoftheday droneship drone',\n",
       " ' spacex successfully lands rocket floating drone ship    drones droneoftheday droneship drone',\n",
       " ' bad news  earth  leonardo dicaprio going mars',\n",
       " ' mission mars  here are all red planet plans works',\n",
       " ' htt ',\n",
       " ' spacex successfully lands rocket floating drone ship    drones droneoftheday drone ',\n",
       " ' elon musk  tesla  spacex  quest fantastic future amazon book science',\n",
       " ' whistleblower discloses shocking new intel  humans on mars since the     s says',\n",
       " ' elonmusk  jeffmason   you almost want get take off  you potus says elonmu ',\n",
       " ' spacex first stage landing on',\n",
       " '  bizjournals  exclusive  how elon musk s failure buy russian rockets spacex led',\n",
       " ' i wish i thought this   elon musk spacex stopdrymarkeritis',\n",
       " ' mission mars  here are all red planet plans works via space',\n",
       " ' blue origin gunning spacex    got takes',\n",
       " ' spacex test fires mars transport      raptor      rocket  iss',\n",
       " ' this significant achievement worthy praise  and i m spacex fanboy  newspace ispcs    ',\n",
       " ' now tracking  no damage spacex ula launch pads vandenberg fire',\n",
       " ' ceo says company beat mars via',\n",
       " ' first test raptor interplanetary transport engine',\n",
       " ' competition good blue origin spacex duking years come space gets',\n",
       " ' mars bound astronauts face chronic dementia risk galactic cosmic ray exposure  study shows  spacex',\n",
       " ' obama joins musk s call humanity become multi planetary species  according musk s vision  spacex ',\n",
       " ' mars colonization worth price  elon musk  founder spacex  recently announced plan putti',\n",
       " ' no damage spacex ula launch pads vandenberg fire  launch pads ground equipment used spacex',\n",
       " ' corey goode tweets elon musk    humans mars since the     s ',\n",
       " ' ascension mother earth current state affairs  corey goode tweets elon musk   humans ',\n",
       " ' spacex wars  china owns spacestation  spacerace  own solarsystem  space trip   exoplanet proximab ',\n",
       " ' fake  spacex explosion fake ufo eng via',\n",
       " ' the spacex explosion prove elon musk business',\n",
       " ' the day i interviewed spacex   years ago it went well    ',\n",
       " ' speculation building sabotage involved recent spacex explosion',\n",
       " ' the spacex explosion',\n",
       " ' shotwell says spacex  homing in  cause falcon   pad',\n",
       " ' explosion rocks spacex launch site florida during test militaryrelocation  pcs',\n",
       " ' air force investigating sabotage claims around spacex explosion',\n",
       " ' spacex falcon   explosion solved ',\n",
       " ' spacex eyed rival  s building rocket explosion probe',\n",
       " ' what spacex s rocket explosion means elon musk',\n",
       " ' i liked video detailed analysis spacex rocket explosion',\n",
       " ' hey thx connecting',\n",
       " ' new vid haunting space nasa like spacex via',\n",
       " ' check video space disasters nasa spacex',\n",
       " ' apocalypse pending  the search earth tesla spacex journeytomars',\n",
       " ' firefly  b space  b  systems completes successful mission duty cycle tests spacex',\n",
       " ' spacex reuse dragon capsules cargo missions',\n",
       " ' spacex reuse dragon capsules cargo missions   spacenews  ',\n",
       " ' intriguing indeed',\n",
       " ' guadalajara can us really get astronauts mars      interplanataryspecies',\n",
       " ' who s john pike allowed write subject understand',\n",
       " ' update   spacex shift florida launches new pad explosion hotelmarketing leadgeneration leadvalet',\n",
       " ' spacex s elon musk plans  fun  trips mars',\n",
       " ' fake  spacex explosion fake ufo eng via',\n",
       " ' spacex wars  china owns spacestation  spacerace  own solarsystem  space trip   exoplanet proximab ',\n",
       " ' president obama issues  interplanetary frontier  directive today  we have details nasa spacex boeing beam',\n",
       " ' found real identety  humor startrek',\n",
       " ' the thread  r spacex want see  insider confirms testing  sni ',\n",
       " ' spacex  here s why mars prevents spacex ipo   investors buz',\n",
       " ' boeing says beat spacex mars  ',\n",
       " ' nation s leading thinkers gather frontiers conference pitt  cmu via spacex',\n",
       " ' left wallet el segundo found rocket hawthorne ',\n",
       " ' first test raptor interplanetary transport engine',\n",
       " ' elon musk spacex consider mars moore s law problem',\n",
       " ' got competition cheaptickets  allinclusive mars',\n",
       " ' blue origin gunning spacex    got takes',\n",
       " ' future mars mission departing historic pad   a kennedy space center',\n",
       " ' spacex reuse dragon capsules cargo',\n",
       " ' spacex architecture interior design agency psd template  fashion ',\n",
       " ' great see prof pablo de le n  mars  inside high risk race red planet via',\n",
       " ' yes  big news they ll reusing dragon v  frees production lines for',\n",
       " ' spacex    books read before following elon musk mars read more ',\n",
       " ' exclusive  how elon musk s failure buy russian rockets spacex led     arizona jobs today   phoenix bu',\n",
       " ' elon musk spacex consider mars moore s law problem it isn t  wired',\n",
       " ' spacex  here s why mars prevents spacex ipo   profit confidential  ',\n",
       " ' spacex  here s why mars prevents spacex ipo    ',\n",
       " ' satellite owner says spacex owes     million free flight   tiny finance news via',\n",
       " ' guarantee spacex help us colonize mars lifetime worry',\n",
       " ' the physical challenges spending year space many but mars voyage would also take psychological',\n",
       " ' dreams really come true',\n",
       " ' marscolonization journeytomars',\n",
       " ' spacex announces plans colonise mars via love believing propogation mars',\n",
       " ' retirement planning read article at',\n",
       " ' reading plans mars let s remember old equipments helped mankind set foot moon',\n",
       " ' boeing  we  ll beat elon musk mars',\n",
       " ' magicavoxel really magical the second day app i m already hooked learning  voxeldailies ',\n",
       " '    wisenews spacex landed rocket drone ship first time',\n",
       " ' the future rocket family',\n",
       " ' its propulsion   the evolution raptor engine',\n",
       " ' had opportunity geek day beyond impressed legend falcon  toinfinityandbey ',\n",
       " ' reusing dragon allow shift high gear dragon   production  cargo   crew transport',\n",
       " ' magicavoxel really magical the second day app i m already hooked learning  voxeldailies space',\n",
       " ' spacex rocket lifts payload international space station  lands barge',\n",
       " ' spacex reuse dragon capsules cargo missions   reflying  st dragon crs         spx   nasa',\n",
       " ' shotwell says  homing in  on cause falcon  pad explosion',\n",
       " ' the spacex explosion',\n",
       " ' spacex falcon   rocket exploded  people ask',\n",
       " ' whoa',\n",
       " ' could recent spacex explosion been',\n",
       " ' spacex rocket explodes launchpad elonmusk facebook vc funding startup vc',\n",
       " ' spacex identifies possible cause of rocket explosion  anticipates november launch  ',\n",
       " ' shotwell says spacex  homing in  on cause falcon   pad explosion',\n",
       " ' spacex reportedly investigating sabotage cause falcon   explosion',\n",
       " ' now tracking  us air force joins investigation spacex rocket explosion',\n",
       " ' shotwell says spacex  homing in  on cause falcon   pad explosion via',\n",
       " ' shotwell says spacex  homing in  cause falcon   pad explosion',\n",
       " ' everything need know spacex s plan colonize mars',\n",
       " ' formation solid oxygen copv carbon',\n",
       " ' whoa',\n",
       " ' founder elonmusk picks fifth multi million dollar property bel air  photos  via',\n",
       " ' whistleblower discloses shocking new intel  humans mars since     s sphere being alliance',\n",
       " ' folks  elon musk clown we see now',\n",
       " ' interplanetary transport system mars',\n",
       " ' corey goode tweets elon musk   humans mars since     s',\n",
       " ' designtools design tools',\n",
       " ' next birthday i want mum make cake please',\n",
       " ' careers via',\n",
       " ' elon musk  s ideas aren  t enough turn humanity multi planet species   the',\n",
       " ' falcon explosion caused by unsafe material used for external fuel w  grain salt',\n",
       " ' falcon explosion caused by unsafe material used for external fuel w ',\n",
       " '   launches   explosions week s spacey update',\n",
       " ' china rain steal  spacex rocket explosion suspects  drones heading waterworld podcast',\n",
       " ' esa nasa spacex sitting russia japan china race occupymars  easa now',\n",
       " ' corporations race mars   good thing space science mars',\n",
       " ' is boeing vs spacex mars what players space science mars',\n",
       " ' we re going red planet all    past  present  future missions mars',\n",
       " ' whistleblower discloses shocking new intel  mars spacex',\n",
       " ' mars obama spacex',\n",
       " ' a new private space race boeing ceo says he ll beat spacex to mars via tech aer ',\n",
       " ' elon musk spacex consider mars moore s law problem it isn t  wired   via',\n",
       " ' mars spacex mission to mars',\n",
       " ' china s private space industry prepares compete spacex blue origin',\n",
       " ' boeing boasts  we ll beat spacex mars  fox business related articles ',\n",
       " '   signs time quit job become entrepreneur via spacex',\n",
       " ' i m including list     mars startup ideas book so much potential mars space earth',\n",
       " ' mars  inside high risk  high stakes race red planet via',\n",
       " ' youtube videos days hey  spacex thing still going mars cool nasa  i want in',\n",
       " ' spacex securehumanitysfuture americacandobetter send two gobshites space startfresh',\n",
       " ' boeing boasts  we ll beat spacex mars',\n",
       " ' mark zuckerberg reacts spacex falcon   explosion via',\n",
       " ' politics ramp spacex explosion investigation',\n",
       " ' spacex latest theory falcon  explosion ',\n",
       " ' speculation building sabotage involved recent spacex',\n",
       " ' spacex says continue launching falcon   rockets two launch pads',\n",
       " ' could recent spacex explosion been',\n",
       " ' spacex hiring product manager first time i ve ever wished i worked erp prodmgmt',\n",
       " ' spacex wants reuse its dragon capsule salt water s pain',\n",
       " ' elon s space pinto tclot spacex',\n",
       " ' spacex propulsion achieved first firing raptor interplanetary transport engine',\n",
       " ' jose earth potus hillary temer    usa nasa spacex embraer ula growthhacking industrie   snct     ',\n",
       " ' like spacex get limited edition  occupy mars  tee hoodie women   men   ',\n",
       " ' gods new words mankind  innovation spacex seattle god jesus sanfrancisco lgbtq sia poland ellen',\n",
       " ' portrait elon musk art painting tesla spacex',\n",
       " ' the spacex q a session last night entirely sensible every way here s take it',\n",
       " ' jose earth potus hillary temer    usa nasa spacex embraer ula growthhacking industrie   snct     futurecom     ',\n",
       " ' spacex successfully lands rocket floating drone ship    drones droneoftheday droneship drone',\n",
       " ' spacex successfully lands rocket floating drone ship    spacex drones droneoftheday droneship drone',\n",
       " ' news post  spacex attempt shift blame exploding rockets joke',\n",
       " ' spacex successfully lands rocket floating drone ship    drones droneofthe ',\n",
       " ' very nice spacex commercial good',\n",
       " ' a special view today ocisly spacex rustys exploration tower port canaveral the east coast boat rv and ',\n",
       " ' a special view today ocisly spacex rustys exploration tower port canaveral the east coast boat rv outdoor ',\n",
       " ' reveals spacex plans  colonize',\n",
       " ' spacex attempt shift blame exploding rockets joke',\n",
       " ' i believe spacex done twice falcon ',\n",
       " ' will spacex require funding nasa establish colony mars spacex',\n",
       " ' spacex s space coast launch facilities escape hurricane matthew s wrath  may resume launches year',\n",
       " ' don t miss elon s wild ride  biographer ashlee vance s inside look troubles tesla  spacex  solarcity',\n",
       " ' spacex s falcon   explosion  proxima b seti  listen tcbc episode   emily calandrelli  ',\n",
       " ' gods new words mankind  innovation spacex seattle god jesus sanfrancisco lgbtq sia poland',\n",
       " ' blue origin gunning spacex    got takes',\n",
       " ' be a spacex nasa astronaut  so you want to be an astronaut what is t related articles ',\n",
       " ' i liked video spacex look up',\n",
       " ' spacex falcon   explosion sabotage unlikely  but snipers here s whole truth',\n",
       " ' elon musk  the mind behind tesla  spacex  solarcity ',\n",
       " ' spacex falcon   explosion caused by unsafe material used for external fuel pipeline  video   via',\n",
       " ' spacex fans',\n",
       " ' the spacex explosion',\n",
       " ' shenzhou   oa  soyuz iss tiangong  antares spacex',\n",
       " ' spacex identifies possible cause of rocket explosion  anticipates november launch  ',\n",
       " ' good night everyone check i m still giving note     if like keep it',\n",
       " ' pretty cool thing show storage device use android if i still note  typ ',\n",
       " '   best galaxy note   alternatives   gotta be mobile  galaxynote  note ',\n",
       " ' that i call responsible  respectful  trustworthy  company',\n",
       " ' galaxynote  units',\n",
       " ' note  night remember   go back one go off',\n",
       " ' galaxy note   leather sleeve  pumpkin   galaxynote  galaxynote sleeve galaxynote pouch galaxynote etui',\n",
       " ' change note  evolutionofthefittest',\n",
       " ' hey time make things right stop destruction    million galaxynote  phones',\n",
       " ' giving try sadly turning note  dont let   please dont l ',\n",
       " ' firstly galaxy note   washer wtf',\n",
       " ' free note   theme s edge android note ',\n",
       " ' now galaxynote  grenade mod replaced washer atom bomb mod samsungwasherrecall',\n",
       " ' newzealand mobile network carriers will disconnect galaxynote  units from november',\n",
       " ' we thought note  joke second',\n",
       " ' could reuse tonnes resources    million galaxynote  will right',\n",
       " ' if galaxynote   please power   exchange now details here ',\n",
       " ' if    mill galaxynote  destroyed     tns cobalt     kg gold      kg silver wasted savethegalaxy',\n",
       " '     smartphone users would still buy phone  despite note  disaster ',\n",
       " ' icymi  half galaxy note   owners will switch iphone  survey finds galaxynote ',\n",
       " ' taxi   using exploited galaxynote    ',\n",
       " ' help get recycle properly dispose recalled galaxynote  phones ',\n",
       " ' my samsunggalaxy note  got update overnight now charge past     my google ',\n",
       " ' at firework display someone goes leaves samsunggalaxynote  unattended',\n",
       " ' too soon samsunggalaxynote ',\n",
       " ' us galaxy note   s will be capped     battery very soon galaxynote  psa',\n",
       " ' us galaxynote  s will be capped     battery very soon  we ve made pretty clear exchange  ',\n",
       " ' us galaxy note   s will be capped     battery very soon   lifehacker  galaxynote  note ',\n",
       " ' still using mine well yes re tweeted note ',\n",
       " ' us galaxy note   s will be capped     battery very soon galaxynote  psa safety',\n",
       " ' i hate galaxy note  note recall',\n",
       " ' samsung s culture needs change wants survive innovation galaxynote  ',\n",
       " ' my galaxynoteedge wanting hip relevant like galaxynote ',\n",
       " ' store still displaying shamed galaxynote ',\n",
       " ' galaxy note  fiasco could be forgotten in six months    just in time for its next flagship phone ',\n",
       " ' the least   could give note  owners early upgrade option incentive pa ',\n",
       " ' order all your discounted galaxynote  cases   screen protectors  ',\n",
       " ' dubbed   edited lol voiceovers voiceover samsung samsungnote  note  comedy funny ',\n",
       " ' software update annoy galaxynote  owners return',\n",
       " ' the galaxynote  failure environmental tragedy  thenextgalaxy waste',\n",
       " ' thanks know note  fiasco big conspiracy i miss much',\n",
       " ' galaxy note   felt sleeve  acid   galaxynote  galaxynote sleeve galaxynote case galaxynote felt note ',\n",
       " ' eye recognition scanner login   mobile android  robertburns   like galaxy note   login   using sclera i ',\n",
       " ' here s when we might finally find out why samsung s note   phones were exploding',\n",
       " ' china s consumers livid chinese executives kneeled apologize galaxy note   via',\n",
       " ' what galaxy note   recall means all tech companies   sa ',\n",
       " ' i liked video the galaxy note   disaster  this does not commute podcast   ',\n",
       " ' empty box samsung galaxy note     gb verizon wireless box with accessories',\n",
       " ' remember thinking led huffpo decide      cover trump entertainment section  politics',\n",
       " ' software update annoy galaxy note   owners return',\n",
       " ' at colombo airport note       ',\n",
       " ' i liked video how cool overheating note   iphone   plus fast',\n",
       " ' i want turn phone in',\n",
       " ' the raging dumpster fir ',\n",
       " ' a video shows note   charging aftermarket charger upto     degreesno explosion',\n",
       " ' here s phone batteries like note   s keep exploding',\n",
       " ' some galaxynote holdouts turned phones ',\n",
       " ' carriers ante note   hold outs  blocking mobile networks',\n",
       " ' eye recognition scanner login   mobile android robertburns    like galaxy note   login   us freelancer',\n",
       " ' i note  ',\n",
       " ' uhh',\n",
       " ' nuclear bomb',\n",
       " ' apple takes      all smartphone profits following galaxy note   recall',\n",
       " ' let go still using galaxy note   here s samsung  techradar',\n",
       " ' us galaxy note   s will be capped     battery very soon',\n",
       " '   download girl pissing public kicked old man bugil bokep ngentot xxx',\n",
       " ' top soubarato smartphones smartphone samsung galaxy j   gb duos dual chip desbloqueado oi android    tela      ',\n",
       " ' i ll never trust phone again batterylife wirelesscharging startup entrepreneurship iphone samsung ',\n",
       " ' before phones exploded   busy blowing unicode',\n",
       " ' i m guarding galaxy',\n",
       " ' samsung s culture needs change wants survive via  r technology tech news',\n",
       " ' only       att samsung samsunggalaxynote  samsunggalaxy galaxynote note  noteiii sm ',\n",
       " ' sales        samsung   mm f   macro ed ssa ois lens black for nx  nx   nx    nx    nx   ',\n",
       " ' china s consumers livid aft chinese exes kneeled apologize note   who th ',\n",
       " '      tested mini otg cable usb otg adapter micro usb usb converter tablet pc android samsung xiaomi htc sony ',\n",
       " ' beat black friday samsung un  j        inch     p smart led tv       model ',\n",
       " ' thanks   galaxy s  edge  s  buat the nailshop dapat dari galaxygiftid everydaygifts',\n",
       " ' samsung galaxy tab      leather sleeve rum diary   galaxytab  galaxytab sleeve galaxytab  ',\n",
       " ' we announced voluntary recall top load washers safety top priority for information visit',\n",
       " ' buy      delightable   protective case tpu silicone samsung galaxy note   smartphone   little animals a',\n",
       " ' picun bluetooth wireless headphones bt series stereo foldable headset microphone and ',\n",
       " ' for samsung a       rubberized hard case  superdeals aliexpress superdeal',\n",
       " ' either samsung  ',\n",
       " ' galaxy note  sleeve shop   note  galaxynote  note sleeve note case note pouch note leather note felt',\n",
       " ' killingtime starbucks    late post   samsung note  note  starbucks',\n",
       " ' i wonder explodes would everyone around covered diamonds note ',\n",
       " ' undergoing culture change following galaxy note  debacle',\n",
       " ' we actually understand hold note  amazing defect  some users still can t let go',\n",
       " ' samsunggalaxynote  samsung',\n",
       " ' note  ecig ',\n",
       " ' samsung recalls    mln washing machine us injury risk  new blow reputation galaxynote ',\n",
       " ' samsung america says replaced recalled',\n",
       " ' here s samsung s next bet in india after the galaxy note  galaxynote ',\n",
       " ' samsung s culture needs change wants survive',\n",
       " ' samsung says     recalled galaxynote  replaced  confirms battery limiting update incoming  ',\n",
       " ' samsung galaxy note  cut mobile networks via infosec',\n",
       " ' after galaxynote   now samsung recalls    million washing machines us',\n",
       " ' comprem samsung galaxynote  apple iphone ',\n",
       " ' apparently galaxy note   samsung product explodes',\n",
       " ' note  samsung',\n",
       " ' samsung samsunggalaxynote  samsung',\n",
       " ' a samsung galaxy note     cnbc  galaxynote  note ',\n",
       " ' samsung s rush beat iphone   seems reason note   fiasco samsung note  iphone  samsunggalaxynote ',\n",
       " ' after galaxynote   samsung recalls millions washing machines  technology fails',\n",
       " ' samsung s culture needs change wants samsung management',\n",
       " ' samsung release software us hobble galaxy note  usa',\n",
       " ' bloomberg  samsung says    percent note   phones us are replaced galaxynote  ',\n",
       " ' galaxy note   stuff joke note  boom becareful cellphonerepair iphone samsung repair android',\n",
       " ' techrepublic      smartphone users would still buy samsung phone  despite note  disaster   ',\n",
       " '     us note  s returned  battery limiting update arriving stragglers',\n",
       " ' samsung',\n",
       " ' bloomberg  samsung says    percent note   phones us are replaced galaxynote  mobile ht ',\n",
       " ' terrorist going buy samsung  galaxy note   bomb washing machine anti tank mines',\n",
       " ' could moto m fill gap left samsung galaxy note   note  motom phablet tech via',\n",
       " ' samsung washing machines recalled   tech iot technology apple huawei',\n",
       " ' samsung says    percent us note  devices replaced',\n",
       " ' sl th samsung says    percent us note  devices replaced iphone  iphone samsunggalaxynote ',\n",
       " ' samsung says    percent us note  devices replaced iphone  iphone',\n",
       " ' samsung says    percent us note  devices replaced  mashable  iphone  iphone samsunggalaxynote ',\n",
       " ' samsung says    percent us note  devices replaced iphone  iphone samsunggalaxynote ',\n",
       " '   million dumped samsung note  devices could hurt earth',\n",
       " ' samsung says    percent us note  devices have  iphone  iphone samsunggalaxynote  note  add',\n",
       " ' samsung washing machines recalled   tech iot technology apple huawei htt ',\n",
       " ' socialmedia itcd  samsung says    percent us note  devices replaced',\n",
       " ' samsung says    percent us note  devices replaced  the raging dumpster  vk',\n",
       " ' samsung says    percent us note  devices replaced iphone  iphone samsunggalaxynote ',\n",
       " ' samsung says    percent us note  devices replaced  the raging  tech',\n",
       " ' review samsung galaxy note  tech funding startup vc',\n",
       " ' samsung limits galaxy note   charging us software recall holdouts   zdnet  galaxynote  note ',\n",
       " ' yes  xiaomi s mi note   looks like samsung galaxy note    ways  better',\n",
       " ' nearly     galaxy note  s us returned',\n",
       " ' some galaxy note   holdouts turned phones  samsung plans prod them',\n",
       " ' i liked video can samsung galaxy note   really explode',\n",
       " ' samsung replaced     recalled galaxy note   s',\n",
       " ' samsung galaxy s   best high end phone world ever seen',\n",
       " ' tech   samsung canada remotely updates recalled note  s limits   tech',\n",
       " ' samsung limits galaxy note   charging us software recall holdouts',\n",
       " ' if one us turned note    battery get capped ',\n",
       " ' first samsung note   samsung washingmachines',\n",
       " ' tech magazine samsung galaxy note   ostrasized by new zealand mobile networks  samsung s galaxy note   been ',\n",
       " ' top story  samsung limits galaxy note   charging us software recall  see more',\n",
       " ' the guy takes samsunggalaxynote  washing machines back samsung factory  ',\n",
       " ' samsung s crisis continues  this time  it s washing machines  the us product safety regulator  tech',\n",
       " ' hackread  the guy takes samsunggalaxynote  washing machines back samsung factory  ',\n",
       " ' the guy takes samsung s faulty note   s washing machines back factory',\n",
       " ' what personal data millions recalled note s   note  note recall ',\n",
       " ' samsung galaxy note   explosion compilation  note   explode  note   explosion bobbybrownway',\n",
       " ' samsung s crisis continues  this time  it s washing machines  the us product safety regulator ',\n",
       " ' obama compares obamacare new smart phone mike pence agrees  obamacare samsung galaxy note  ',\n",
       " ' i liked video the best alternative note     samsung galaxy s  edge still the',\n",
       " ' top story  samsung says    percent us note  devices replaced see more',\n",
       " ' samsung s culture needs change wants survive',\n",
       " ' still using galaxy note   here s samsung n',\n",
       " ' note  note recall samsung samsunggalaxynote ',\n",
       " ' nearly     galaxy note  s us returned almost three months massive sc ',\n",
       " ' samsung says    percent us note  devices replaced',\n",
       " ' samsung plan get back remaining    k note   phones android',\n",
       " ' twitter instalar en samsung galaxy note         via',\n",
       " ' samsung says     recalled us note s replaced  limit rest     charge',\n",
       " ' samsung says    percent us note  devices replaced news',\n",
       " ' samsung says     recalled note   phones us replaced',\n",
       " ' samsung planning release galaxy note   update limits battery    ',\n",
       " ' samsung s culture needs change wants survive  ',\n",
       " ' samsung galaxy note     the samsung galaxy note   disappointed customers  company announced tha',\n",
       " ' after killing galaxy note    samsung looking reduce environmental impact',\n",
       " ' samsung says    percent us note  devices replac via tech',\n",
       " ' i washing machine  samsung ',\n",
       " ' samsung says nearly     galaxy note   devices returned   via',\n",
       " ' samsung really crappiest        first note   this',\n",
       " ' ich mag das can samsung galaxy note   really explode',\n",
       " '   androidflip smartphone   samsung introduces another android flip phone in the form of w ',\n",
       " ' let s give positive spin  at point  samsung experienced recall recovery team globe htt ',\n",
       " '    samsung ue  j        inch full hd     p smart led tv from argos shop ebay',\n",
       " ' lg india s most attractive brand  followed sony   samsung mobiles  fmcg has the ',\n",
       " ' samsung s culture needs change wants survive via',\n",
       " ' samsung ban note   connecting mobile networks new zealand',\n",
       " ' samsung biologics ipo  too expensive',\n",
       " ' samsung galaxy note   rumors via',\n",
       " ' i entered win nancy drew  codes   clues app samsung galaxy tab hs giveaways',\n",
       " ' samsung bad year',\n",
       " ' samsung says    percent us note  devices replaced tech      v  nnovate',\n",
       " ' samsung recalls top load washing machines due risk impact injuries',\n",
       " ' i liked video huawei mate    samsung washers catch fire   windows phones  the',\n",
       " ' samsung galaxy s  edge      gb   white   at t',\n",
       " ' my samsung two settings   frying pan hot sun  put    bag could blow bridge ',\n",
       " ' samsung galaxy s  edge      gb   black   at t',\n",
       " ' us announces recall samsung washing machines       via',\n",
       " ' samsung electronics recalls    million washing machines us',\n",
       " ' what happen   million dumped samsung note s',\n",
       " ' another recall samsung this time  washing',\n",
       " ' samsung says    percent us note  devices replaced pcmixnet',\n",
       " ' delightable   ultra thin protective design case tpu silicone samsung galaxy note   ',\n",
       " ' samsung hq right now  ',\n",
       " '   m samsung washing machines recalled risk  impact injuries ',\n",
       " ' hard reset samsung galaxy a  a   f         via',\n",
       " ' samsung note    samsung says    percent note  s returned us   it month ',\n",
       " ' samsung note    samsung says    percent note  s returned us   it month  htt ',\n",
       " ' samsung note    samsung says    percent note  s returned us   it month  http ',\n",
       " ' samsung says    percent note  s returned us  samsung note   samsung says    per',\n",
       " ' homer figuring note  problem solved samsung samsungnote  thesimpsons',\n",
       " ' new zealand carriers block galaxy note   tech samsunggalaxynote ',\n",
       " ' newzealand carriers block galaxy note  ',\n",
       " ' new zealand carriers block galaxy note     engadget  galaxynote  note ',\n",
       " ' here s phonebatteries like samsung note  keep exploding cause batteryfailure mobilepho ',\n",
       " ' samsungwashingmachines causing headaches samsung samsunggalaxynote  fiasco',\n",
       " ' shouldn t ve tried wash note  it   m samsung washing machines recalled due explosions via',\n",
       " ' tech ticker  samsung crisis mode galaxy note   disaster   zdnet  galaxynote  note ',\n",
       " ' the hysteria samsunggalaxynote  totally disproportionate risk via',\n",
       " ' does apple make washing machine samsunggalaxynote  explosion',\n",
       " ' after samsunggalaxynote   samsung convert military contractor',\n",
       " ' looks like samsung needs fire top engineers want stop series samsunggalaxynote ',\n",
       " ' i double check account and google story make sure amazing parody ',\n",
       " ' wtf samsung company recalling almost   million washing machine because of explosion risk samsunggalaxynote ',\n",
       " ' let s hope also exploding samsunggalaxynote  kaboom',\n",
       " ' i think samsung get defence supplies buisness first samsunggalaxynote  washingmachine ar ',\n",
       " ' check photo   tweet samsunggalaxynote   check tweet  ',\n",
       " ' my note  return box came in',\n",
       " ' sad day',\n",
       " ' us announces recall samsung washing machines      wsj samsunggalaxynote  galaxynotediscontinued ',\n",
       " ' samsung ban note  connecting mobile networks new zealand',\n",
       " ' apple takes      all smartphone profits following galaxy note   recall samsunggalaxynote ',\n",
       " ' cell networks starting block note  s still tech note  samsung cellgames cellphone',\n",
       " ' exploding washing machines samsung samsunggalaxynote  recall whatisthis',\n",
       " ' i guess samsung put note  batteries washing machines',\n",
       " ' samsung recalls    million washing machines us injury risk recall    million',\n",
       " ' no mobile networks note   networkban note ',\n",
       " ' see note ',\n",
       " ' samsung note  allowed flights now issued public interest dgca haha   ',\n",
       " ' samsung note  boom',\n",
       " ' whoops looks like someone dropped note  washing machine',\n",
       " ' as i type status iphone   i m still mourning loss note ',\n",
       " ' samsung messing lately',\n",
       " ' things ain t going well after note  explosions   comes washingmachine explosions ',\n",
       " ' sigh  first phone  note   washing machine hey better details rebate would g ',\n",
       " ' funniest thing i ve seen year  ',\n",
       " ' sheer brilliance',\n",
       " ' jordindian diwali samsunggalaxynote ',\n",
       " ' could moto m fill gap left samsung galaxy note   note  motom phablet tech via',\n",
       " ' first note  washing machines what s wrong with',\n",
       " ' samsung galaxy note   powerful smartphone    meme samsung note ',\n",
       " ' samsung reports expected drop profits following galaxy note  fiasco profits',\n",
       " ' galaxy note   stuff joke note  boom becareful cellphonerepair iphone samsung repair android',\n",
       " ' chinese consumer sues samsung note   catches fire samsunggalaxynote ',\n",
       " ' samsung cutting note  s access mobile networks newzealand',\n",
       " ' first samsung note  washingmachines',\n",
       " ' review samsung galaxy note  tech funding startup vc',\n",
       " ' samsung takes drastic measures prevent galaxy note  owners using them  ',\n",
       " ' i forgive note   waiting next one  ',\n",
       " ' one note  s best features coming back the',\n",
       " ' samsung starts cutting cell tower connections note ',\n",
       " '      oh great  samsung washing machines exploding now ',\n",
       " ' note  washingmachine',\n",
       " ' imagine somebody forgot samsunggalaxynote  jeans put samsung washing machine',\n",
       " ' ducking samsung note ',\n",
       " ' big ups bombest products market note  toploadwashingmachine ',\n",
       " ' returned note  good  steer clear samsung clothes washer recall details  via',\n",
       " ' i m say final goodbye note  using russian nesting doll shipping ',\n",
       " ' if south korea really wants overthrow kim jong un send north korea recalled ',\n",
       " ' imagine talking samsung note    washing clothes samsung washing machine',\n",
       " ' samsung galaxy note  s network cutoff set newzealand ',\n",
       " ' after recall dangerous galaxynote   samsung recall   millions washing machines injury risk    ht ',\n",
       " ' t mobile issue note  update limits battery     starting tomorrow         t mobile is  android india',\n",
       " ' samsung really crappiest        first note   this',\n",
       " ' lg v   review  stealing note   s spotlight   slashgear  galaxynote  note ',\n",
       " ' galaxynote  blacklisted newzealand mobile operators',\n",
       " ' samsunggalaxynote ',\n",
       " ' this galaxynote  case is the best it covers all the ports   the s pen plus  it has built in screen protection',\n",
       " ' issue galaxynote  update limiting charging    ',\n",
       " '   look s like finally trying entry battlefield  laptop class  hope get to ',\n",
       " ' after note  washing machine',\n",
       " ' samsung recalls    million washing machines',\n",
       " ' note  note recall still us  samsung us delays take back    ',\n",
       " ' samsung products great isis lol    ',\n",
       " ' galaxynote  samsung',\n",
       " ' designed built team made samsung galaxynote  per chance ',\n",
       " ' they look fun  actually dangerous   boostedboards skateboarding boarding hoverboards note ',\n",
       " ' be smart think big samsung samsunggalaxynote  commercial fail hazardous',\n",
       " ' t mobile issue note  update limits battery     starting tomorrow         t ',\n",
       " ' after galaxynote   samsung s washingmachines also explosive',\n",
       " '       recall action launched',\n",
       " ' apple takes     percent smartphone profits samsung s galaxy recall  galaxynote  smartphones ',\n",
       " ' as long aren t real galaxynote  phones those',\n",
       " ' aw this nice gesture samsung stayingwithsamsung note tos  note  s ',\n",
       " ' could reuse tonnes resources    million galaxynote  will right',\n",
       " ' samsung recalls    million washing machines that may explode samsung samsunggalaxynote  recallalert recall',\n",
       " ' hey time make things right stop destruction    million galaxynote  phones',\n",
       " ' samsung losing lot money year need step pr brand note  washingmachine',\n",
       " ' samsung note  users file classaction suit carrier fees by',\n",
       " ' check out all these discounted galaxynote  cases   screen protectors for your note   ',\n",
       " ' return note   checkout alternative androids instead',\n",
       " ' still note   thuglife best ever',\n",
       " ' no issues never over or   good t ',\n",
       " ' samsung can t catch break days  first note  washing machines recalled  fail',\n",
       " ' samsung ban note  connecting mobile networks newzealand ',\n",
       " ' samsung says     recalled galaxynote  replaced  confirms battery limiting update incoming   ',\n",
       " ' samsung says     recalled galaxynote  replaced  confirms battery limiting update incoming  ',\n",
       " ' if still using note  us  soon able fully charge it via',\n",
       " ' samsung recalled   m washingmachines due explosion danger',\n",
       " ' samsung samsunggalaxynote  boom',\n",
       " ' why honestly disable altogether samsung note ',\n",
       " ' samsung recalls washing machines blow up business tech note ',\n",
       " ' samsangwasher  samsunggalaxynote   blows  askthefix askaman know ',\n",
       " ' galaxynote  ',\n",
       " ' there s still time change story ',\n",
       " ' post galaxynote   crisis  recalls    lakh washing',\n",
       " ' this man bring bomb work inno dwg note ',\n",
       " ' this      equivalent grandma      asking whether the email s  s edge note  ',\n",
       " ' heads up  note  users',\n",
       " ' hope using note  call  samsung',\n",
       " ' there enough users galaxynote  blacklisted carriers',\n",
       " ' samsung release software update stop  gadgets hardware samsung galaxynote  add',\n",
       " ' leave samsung phone   washing machine plan take flight samsung tech',\n",
       " ' leave samsung phone  amp  washing machine plan take flight samsung tech',\n",
       " ' no big surprise here samsung banning note  mobile networks new zealand  ',\n",
       " ' so the re nearly good mobile phones then samsung galaxynote ',\n",
       " ' samsung recalls   m washing machines reports explosions  st note  washers ',\n",
       " ' gbsell wallet leather case flip pouch stand holder cover for samsung galaxynote ',\n",
       " '    mill  washing machines recalled over explosion risk  supply note  batteries',\n",
       " ' if still holding galaxynote   samsung making sure able fully charge it ',\n",
       " ' if still holding galaxynote   samsung making sure able fully charge it',\n",
       " ' cnet  if still holding galaxynote   samsung making sure able fully charge ',\n",
       " ' if still holding galaxynote   samsung making sure able fully charge it  via  ',\n",
       " ' note  nz  no calls  texts  data users still able access wifi like samsung ipod touch',\n",
       " ' cnet   if still holding galaxynote   samsung making sure b ',\n",
       " ' cnet  if still holding galaxynote   samsung making sure able fully charge it ',\n",
       " ' if see one those  beware galaxy note  samsung boom',\n",
       " ' be sure wash galaxy note  explodingwasher',\n",
       " ' heard voices but isn t enough ask destroy millions galaxynote ',\n",
       " ' i hope samsung make voting machines',\n",
       " ' elections     news technology samsunggalaxynote  voting stress',\n",
       " ' galaxy note   felt sleeve  acid   galaxynote  galaxynote sleeve galaxynote case galaxynote felt note ',\n",
       " ' samsung hobble galaxy note   charging us software   cnet  galaxynote  note ',\n",
       " ' samsung planning release galaxy note   update limits battery           google  galaxynote   ',\n",
       " ' toon for',\n",
       " ' galaxynote  samsunggalaxynote  samsung',\n",
       " ' repost repostapp',\n",
       " '    ',\n",
       " '         samsung galaxynote  samsungwasher ',\n",
       " ' note  this',\n",
       " ' samsung    still reeling fire prone galaxy note   smartphone    recalling almost   million washing',\n",
       " ' game of galaxy notes juegodetronos gameofthrones galaxynote  samsung trazztornos',\n",
       " ' samsung confirms battery limiting galaxy note   update  says    percent devices us returned',\n",
       " ' samsung planning release galaxy note   update limits battery to',\n",
       " ' samsung confirms battery limiting galaxy note   update  says    percent devices in ',\n",
       " ' samsung hobble galaxy note   charging us software',\n",
       " ' kansas state student kit kat stolen car hershey execs saw note  filled camry       kit kats',\n",
       " ' business  samsung hobble galaxy note   charging us software  to spur more ',\n",
       " ' galaxy note   battery restriction update rolled t mobile nov  ',\n",
       " ' greenpeacenz  greenpeacenz  what galaxy note   recall means all tech companies via greenpeaceusa',\n",
       " ' after note    samsung recalls washing machines because explosion risk',\n",
       " ' xiaomi mi note   hands   galaxy note   alternative',\n",
       " ' i liked video the unasked question samsung note   explosions tech journalism sucks',\n",
       " ' kansas state student kit kat stolen car hershey executives saw note  filled camry       kit ',\n",
       " ' sure enough  samsung cripple galaxy note   s battery prompt returns  by',\n",
       " ' samsung planning release galaxy note   update limits battery    ',\n",
       " ' galaxy note   battery restriction update rolled t mobile nov     android ',\n",
       " ' rt follow returned note   good  steer clear samsung clothes washer   digital trends ',\n",
       " ' samsung says reviewing ways limit note   recall s environmental impact read more         ',\n",
       " ' apple takes      all smartphone profits following galaxy note   recall',\n",
       " ' still use your galaxy note   carriers now blocking device networks',\n",
       " ' still use your samsung galaxy note   carriers now blocking device networks   ',\n",
       " ' samsung says     galaxy note   devices returned',\n",
       " ' returned note     ',\n",
       " ' samsung release software us hobble galaxy note   charging   cnet',\n",
       " ' samsung note   probe results come year end  samsung sdi executive via',\n",
       " ' product reviews  samsung release software us hobble galaxy note   charging news  ',\n",
       " ' samsung says nearly    percent note  s returned us',\n",
       " ' samsung is cutting note   s access to mobile networks in new zealand',\n",
       " ' bonkers   apple takes      all smartphone profits following galaxy note   recall',\n",
       " '  techcrunch  samsung release software update stop unreturned note  s charging completely',\n",
       " ' what isis using love samsung products us advantage secretly allied with',\n",
       " ' samsung america says replaced recalled galaxy note  s',\n",
       " ' samsung recalling    million washing machines also explode',\n",
       " ' samsung recalling   m exploding washing machines',\n",
       " ' samsung recalling    million washing machines sometimes door fly hinges   ',\n",
       " ' samsung recalls washing machines may explode',\n",
       " ' retweet  like follow us chance win samsung galaxy s  edge',\n",
       " ' there two chances one facebo ',\n",
       " ' samsung s nightmare continues it recalls    million washing machines',\n",
       " ' samsung recalls washing machines injury reports malfunctioning units',\n",
       " ' lg rejects proposal open mohalla clinics',\n",
       " ' lgagainstdelhi',\n",
       " ' the samsung b     combines adjustability alias affordability  pbyfwpsl',\n",
       " ' samsung america says replaced recalled galaxy note  s ucapital',\n",
       " ' us announces recall samsung washing machines   wall street journal ',\n",
       " ' samsung recalls   m washing machines reports explosions   the guardian     news',\n",
       " ' forget market share  apple s iphone still making money far bgr',\n",
       " ' forget market share  apple s iphone still making money far  via',\n",
       " ' got new samsung washing machine',\n",
       " ' only one rule around here  tech rules everything purchase samsung gaming tech receive download watchdogs  htt ',\n",
       " ' reportedly isis members trying apply samsung reason',\n",
       " ' samsung recalls    million top load washing machines   npr',\n",
       " ' samsung recalls millions dangerous washing machines another blow samsung s reputation',\n",
       " ' chanyeol bday ad samsung station yeolmaefarm he s handsome',\n",
       " ' cephalica de samsung rayscan',\n",
       " ' samsung recalls   million washers explosions injure customers ',\n",
       " ' samsung america says replaced recalled galaxy note  s   reuters ',\n",
       " ' samsung recalls millions washing machines reports lids machines pop violently',\n",
       " '    million samsung washing machines recalled due explosions first time i ve felt sorry corporation',\n",
       " ' someone pls fucking explain designed emoji why',\n",
       " ' samsung s washing machines exploding via  r funny',\n",
       " ' apple done fucked samsung good',\n",
       " ' recallalert  one person suffered broken jaw washing machine exploded',\n",
       " ' this samsung brand went bad worse samsunggalaxynote  exploding technology marketing',\n",
       " ' say goodbye friend samsunggalaxynote ',\n",
       " ' samsung operating profit plunges     wake note   fiasco battery samsunggalaxynote  oopsie',\n",
       " ' samsunggalaxynote  really bad year',\n",
       " ' samsung announce galaxy note   aug     samsung has galaxynote  samsunggalaxynote  thegalaxynote ',\n",
       " ' samsung electronics                             wish best guys u r best   samsunggalaxynote  ',\n",
       " ' samsung galaxy note   s iris scanner   if you re wanting to irisscanner samsunggalaxynote samsunggalaxynote ',\n",
       " ' not easy year samsung first samsunggalaxynote   samsungwashingmachines high time steppe ',\n",
       " ' samsung celebrating diwali exploding different devices samsunggalaxynote  samsungrecall',\n",
       " ' sumsung  maybe note   design team redeployed home appliance department infosec samsunggalaxynote ',\n",
       " ' samsung america says it has replaced most recalled galaxy note samsunggalaxynote ',\n",
       " ' read more  ',\n",
       " ' samsung note   blacklisted telecommunications samsunggalaxynote  blacklisted',\n",
       " ' oh dear samsunggalaxynote    allowed flights starting later month samsung',\n",
       " ' samsunggalaxynote  network cutoff set new zealand',\n",
       " ' samsung release software update stop unreturned note  s charging completely',\n",
       " ' samsung galaxy note  now discontinued samsung galaxynote  note  android amoled exynos snapdragon phablet',\n",
       " ' yes i keep note   i tweeting universal halloween horror nights note  universalhhn',\n",
       " ' good see phone screen protector used samsungs too kaboom note ',\n",
       " ' samsung cutting mobile network access note   would ppl hold onto bomb note  ',\n",
       " ' note   washer maschines considered weapons war',\n",
       " ' huaweimate  phones unveiled note ',\n",
       " ' did samsung try stop adding tnt consumer electronics     samsunggalaxynote  samsungwashingmachine ',\n",
       " ' samsung has plan get back remaining    k note   phones samsunggalaxynote  note recall',\n",
       " ' samsung finally kills off note   nd round battery fires samsungnote  note gate note recall',\n",
       " ' samsunggalaxynote  crisis  american customers loyal     would consider samsung next purchase',\n",
       " '     smartphone users would still buy phone  despite note  disaster',\n",
       " ' huawei mate   phones unveiled note  meltdown',\n",
       " ' remaining note  phones crippled    galaxynote  note ',\n",
       " ' if    mill galaxynote  destroyed     tns cobalt     kg gold      kg silver wasted savethegalaxy',\n",
       " ' petition  ask stop destruction    million galaxynote  phones  via',\n",
       " ' hey time make things right stop destruction    million galaxynote  phones',\n",
       " ' sounds like needs oceantech responsiblerecycling galaxynote  r  electronics',\n",
       " ' thank making replace note    times month wasting time   money nothappy',\n",
       " ' halloween costume year   h t galaxynote ',\n",
       " ' does actually plan dispose millions galaxy note   phones',\n",
       " ' mate    hands on huawei s galaxynote  rival',\n",
       " ' bomb threat note left  y o boy forces evacuation queens charter school',\n",
       " ' bomb threat note left boy    forces evacuation nyc school education',\n",
       " ' bomb threat note left   year old boy forces evacuation queens charter school',\n",
       " ' if carrying galaxynote   please identify flight crew thanks',\n",
       " '   teen sluts are spunk junkies naked teen porn xxx',\n",
       " ' now  spicejet bars samsunggalaxynote  flights fear of',\n",
       " '    clear cases for samsunggalaxynote ',\n",
       " ' when throw samsunggalaxynote  boat precaution',\n",
       " ' huawei mate   phones unveiled note   huaweimate  note  phones meltdown',\n",
       " ' really forcing note  users stop using   refund money w o buying new phone',\n",
       " ' huawei mate  vs galaxy note   is mate perfect note',\n",
       " ' huawei mate   phones unveiled note   meltdown samsunggalaxynote  huaweimate ',\n",
       " ' huawei mate   phones unveiled note   meltdown   bbc news  galaxynote  note ',\n",
       " ' the new daily my phone life note ',\n",
       " ' good night everyone check i m still giving note     if like keep it',\n",
       " ' the toxic legacy    million flammable samsung smartphones via samsunggalaxynote ',\n",
       " ' handled note  recall incredibly poorly didnt help listen consumersand stuck their ',\n",
       " ' let s hope galaxy note  cellphones come good use   theft back fires  him',\n",
       " ' the note  new firephone',\n",
       " ' the upside galaxynote  issues researchers study faulty batteries improve future  ',\n",
       " ' will    million galaxynote  phones end trash thenextgalaxy',\n",
       " ' hahhahahhahahahha re kindling samsunggalaxynote  needs lol',\n",
       " ' mailman safety note  rrrpc',\n",
       " ' the upside galaxynote  issues researchers study faulty batteries improve future ',\n",
       " '   the way scrunched nose  closes eyes  tilts mouth right reaches high note',\n",
       " ' huawei mate   comes two versions could note   replacement waiting for',\n",
       " ' it s  ',\n",
       " ...]"
      ]
     },
     "execution_count": 76,
     "metadata": {},
     "output_type": "execute_result"
    }
   ],
   "source": [
    "pun_rev"
   ]
  },
  {
   "cell_type": "markdown",
   "id": "f7db1ffb",
   "metadata": {},
   "source": [
    "# TfIdfVectorizer"
   ]
  },
  {
   "cell_type": "code",
   "execution_count": 79,
   "id": "6a3b5878",
   "metadata": {},
   "outputs": [],
   "source": [
    "from sklearn.feature_extraction.text import TfidfVectorizer"
   ]
  },
  {
   "cell_type": "code",
   "execution_count": 80,
   "id": "21bdd5a6",
   "metadata": {},
   "outputs": [],
   "source": [
    "tf=TfidfVectorizer(min_df=5)\n",
    "vec_data=tf.fit_transform(pun_rev)"
   ]
  },
  {
   "cell_type": "code",
   "execution_count": 84,
   "id": "bc9b2e5e",
   "metadata": {},
   "outputs": [
    {
     "data": {
      "text/plain": [
       "(1532, 496)"
      ]
     },
     "execution_count": 84,
     "metadata": {},
     "output_type": "execute_result"
    }
   ],
   "source": [
    "vec_data.shape"
   ]
  },
  {
   "cell_type": "code",
   "execution_count": 94,
   "id": "2fb9b3b7",
   "metadata": {},
   "outputs": [],
   "source": [
    "from sklearn.cluster import KMeans\n",
    "cluster = [] \n",
    "for i in range(1,30): \n",
    "    kmeans = KMeans(n_clusters = i, init = 'k-means++', random_state = 42)\n",
    "    kmeans.fit(vec_data) \n",
    "    cluster.append(kmeans.inertia_)"
   ]
  },
  {
   "cell_type": "code",
   "execution_count": 89,
   "id": "016fac4c",
   "metadata": {},
   "outputs": [],
   "source": [
    "import matplotlib.pyplot as plt"
   ]
  },
  {
   "cell_type": "code",
   "execution_count": 219,
   "id": "4792da0a",
   "metadata": {},
   "outputs": [
    {
     "data": {
      "image/png": "[encoded data removed]",
      "text/plain": [
       "<Figure size 432x288 with 1 Axes>"
      ]
     },
     "metadata": {
      "needs_background": "light"
     },
     "output_type": "display_data"
    }
   ],
   "source": [
    "plt.plot(range(1, 30), cluster)\n",
    "plt.xlabel('Number of clusters')\n",
    "plt.ylabel('cluster') \n",
    "plt.grid()\n",
    "plt.show()"
   ]
  },
  {
   "cell_type": "code",
   "execution_count": 175,
   "id": "dfc1b01c",
   "metadata": {},
   "outputs": [],
   "source": [
    "kmeans = KMeans(n_clusters = 10, init = \"k-means++\", random_state = 42)\n",
    "y_kmeans = kmeans.fit_predict(vec_data)"
   ]
  },
  {
   "cell_type": "code",
   "execution_count": 176,
   "id": "4747b585",
   "metadata": {},
   "outputs": [],
   "source": [
    "tf_idf_kmeans=y_kmeans"
   ]
  },
  {
   "cell_type": "code",
   "execution_count": 108,
   "id": "95fd8df6",
   "metadata": {},
   "outputs": [],
   "source": [
    "y_kmeans=pd.Series(y_kmeans)"
   ]
  },
  {
   "cell_type": "code",
   "execution_count": 110,
   "id": "7220c21d",
   "metadata": {},
   "outputs": [],
   "source": [
    "values=y_kmeans.value_counts()"
   ]
  },
  {
   "cell_type": "code",
   "execution_count": 126,
   "id": "80f01320",
   "metadata": {},
   "outputs": [
    {
     "data": {
      "text/plain": [
       "<function matplotlib.pyplot.show(close=None, block=None)>"
      ]
     },
     "execution_count": 126,
     "metadata": {},
     "output_type": "execute_result"
    },
    {
     "data": {
      "image/png": "[encoded data removed]",
      "text/plain": [
       "<Figure size 432x288 with 1 Axes>"
      ]
     },
     "metadata": {
      "needs_background": "light"
     },
     "output_type": "display_data"
    }
   ],
   "source": [
    "plt.bar(0,values[0])\n",
    "plt.bar(1,values[1])\n",
    "plt.bar(2,values[2])\n",
    "plt.bar(3,values[3])\n",
    "plt.bar(4,values[4])\n",
    "plt.bar(5,values[5])\n",
    "plt.bar(6,values[6])\n",
    "plt.bar(7,values[7])\n",
    "plt.bar(8,values[8])\n",
    "plt.bar(9,values[9])\n",
    "plt.xlabel(\"clusternumber\")\n",
    "plt.ylabel(\"Number of cluster Present\")\n",
    "plt.grid()\n",
    "plt.show"
   ]
  },
  {
   "cell_type": "code",
   "execution_count": 157,
   "id": "b0db5249",
   "metadata": {},
   "outputs": [],
   "source": [
    "from sklearn.decomposition import PCA\n",
    "from scipy.sparse import csr_matrix\n",
    "Y=vec_data.todense()"
   ]
  },
  {
   "cell_type": "markdown",
   "id": "bddc023c",
   "metadata": {},
   "source": [
    "# PCA on Tfidf values"
   ]
  },
  {
   "cell_type": "code",
   "execution_count": 147,
   "id": "0c2eb4f8",
   "metadata": {},
   "outputs": [],
   "source": [
    "# Create a PCA instance: pca\n",
    "pca = PCA(n_components=20)\n",
    "principalComponents = pca.fit_transform(Y)"
   ]
  },
  {
   "cell_type": "code",
   "execution_count": 149,
   "id": "304096f5",
   "metadata": {},
   "outputs": [],
   "source": [
    "PCA_components = pd.DataFrame(principalComponents)"
   ]
  },
  {
   "cell_type": "code",
   "execution_count": 156,
   "id": "f03de736",
   "metadata": {},
   "outputs": [
    {
     "data": {
      "text/plain": [
       "Text(0, 0.5, 'PCA 2')"
      ]
     },
     "execution_count": 156,
     "metadata": {},
     "output_type": "execute_result"
    },
    {
     "data": {
      "image/png": "[encoded data removed]",
      "text/plain": [
       "<Figure size 432x288 with 1 Axes>"
      ]
     },
     "metadata": {
      "needs_background": "light"
     },
     "output_type": "display_data"
    }
   ],
   "source": [
    "plt.scatter(PCA_components[0], PCA_components[1], alpha=.1, color='red')\n",
    "plt.scatter(PCA_components[2], PCA_components[3], alpha=.1, color='green')\n",
    "plt.scatter(PCA_components[4], PCA_components[5], alpha=.1, color='blue')\n",
    "plt.scatter(PCA_components[6], PCA_components[7], alpha=.1, color='yellow')\n",
    "plt.scatter(PCA_components[8], PCA_components[9], alpha=.1, color='black')\n",
    "\n",
    "plt.xlabel('PCA 1')\n",
    "plt.ylabel('PCA 2')"
   ]
  },
  {
   "cell_type": "markdown",
   "id": "8cb7ba64",
   "metadata": {},
   "source": [
    "# Word2Vec implementation"
   ]
  },
  {
   "cell_type": "code",
   "execution_count": 162,
   "id": "561854b5",
   "metadata": {},
   "outputs": [],
   "source": [
    "import pickle\n",
    "from tqdm import tqdm"
   ]
  },
  {
   "cell_type": "code",
   "execution_count": 161,
   "id": "6e977f7f",
   "metadata": {},
   "outputs": [],
   "source": [
    "with open('glove_vectors', 'rb') as f:\n",
    "    model = pickle.load(f)\n",
    "    glove_words =  set(model.keys())"
   ]
  },
  {
   "cell_type": "code",
   "execution_count": 165,
   "id": "5e8e8375",
   "metadata": {},
   "outputs": [
    {
     "name": "stderr",
     "output_type": "stream",
     "text": [
      "100%|████████████████████████████████████| 1532/1532 [00:00<00:00, 55648.96it/s]"
     ]
    },
    {
     "name": "stdout",
     "output_type": "stream",
     "text": [
      "1532\n",
      "300\n"
     ]
    },
    {
     "name": "stderr",
     "output_type": "stream",
     "text": [
      "\n"
     ]
    }
   ],
   "source": [
    "avg_w2v_vectors = []; \n",
    "for sentence in tqdm(pun_rev): \n",
    "    vector = np.zeros(300) \n",
    "    cnt_words =0; \n",
    "    for word in sentence.split(): \n",
    "        if word in glove_words:\n",
    "            vector += model[word]\n",
    "            cnt_words += 1\n",
    "    if cnt_words != 0:\n",
    "        vector /= cnt_words\n",
    "    avg_w2v_vectors.append(vector)\n",
    "\n",
    "print(len(avg_w2v_vectors))\n",
    "print(len(avg_w2v_vectors[0]))"
   ]
  },
  {
   "cell_type": "code",
   "execution_count": 167,
   "id": "50e63255",
   "metadata": {},
   "outputs": [],
   "source": [
    "word_number=np.array(avg_w2v_vectors)"
   ]
  },
  {
   "cell_type": "code",
   "execution_count": 177,
   "id": "9414a0d7",
   "metadata": {},
   "outputs": [],
   "source": [
    "kmeans = KMeans(n_clusters = 10, init = \"k-means++\", random_state = 42)\n",
    "y_kmeans = kmeans.fit_predict(word_number)"
   ]
  },
  {
   "cell_type": "code",
   "execution_count": 178,
   "id": "68dd2b6d",
   "metadata": {},
   "outputs": [],
   "source": [
    "word2vec_kmeans=y_kmeans"
   ]
  },
  {
   "cell_type": "code",
   "execution_count": 169,
   "id": "19f1c52a",
   "metadata": {},
   "outputs": [],
   "source": [
    "y_kmeans=pd.Series(y_kmeans)"
   ]
  },
  {
   "cell_type": "code",
   "execution_count": 170,
   "id": "9aa5cb33",
   "metadata": {},
   "outputs": [],
   "source": [
    "values=y_kmeans.value_counts()"
   ]
  },
  {
   "cell_type": "code",
   "execution_count": 171,
   "id": "3e2fa78b",
   "metadata": {},
   "outputs": [
    {
     "data": {
      "image/png": "[encoded data removed]",
      "text/plain": [
       "<Figure size 432x288 with 1 Axes>"
      ]
     },
     "metadata": {
      "needs_background": "light"
     },
     "output_type": "display_data"
    }
   ],
   "source": [
    "plt.bar(0,values[0])\n",
    "plt.bar(1,values[1])\n",
    "plt.bar(2,values[2])\n",
    "plt.bar(3,values[3])\n",
    "plt.bar(4,values[4])\n",
    "plt.bar(5,values[5])\n",
    "plt.bar(6,values[6])\n",
    "plt.bar(7,values[7])\n",
    "plt.bar(8,values[8])\n",
    "plt.bar(9,values[9])\n",
    "plt.xlabel(\"clusternumber\")\n",
    "plt.ylabel(\"Number of cluster Present\")\n",
    "plt.grid()\n",
    "plt.show()"
   ]
  },
  {
   "cell_type": "markdown",
   "id": "4788cc6e",
   "metadata": {},
   "source": [
    "# PCA on Word2Vec values"
   ]
  },
  {
   "cell_type": "code",
   "execution_count": 172,
   "id": "911f97dd",
   "metadata": {},
   "outputs": [],
   "source": [
    "# Create a PCA instance: pca\n",
    "pca = PCA(n_components=20)\n",
    "principalComponents = pca.fit_transform(word_number)"
   ]
  },
  {
   "cell_type": "code",
   "execution_count": 173,
   "id": "cdffa7d7",
   "metadata": {},
   "outputs": [],
   "source": [
    "PCA_components = pd.DataFrame(principalComponents)"
   ]
  },
  {
   "cell_type": "code",
   "execution_count": 174,
   "id": "e1b55ce1",
   "metadata": {},
   "outputs": [
    {
     "data": {
      "text/plain": [
       "Text(0, 0.5, 'PCA 2')"
      ]
     },
     "execution_count": 174,
     "metadata": {},
     "output_type": "execute_result"
    },
    {
     "data": {
      "image/png": "[encoded data removed]",
      "text/plain": [
       "<Figure size 432x288 with 1 Axes>"
      ]
     },
     "metadata": {
      "needs_background": "light"
     },
     "output_type": "display_data"
    }
   ],
   "source": [
    "plt.scatter(PCA_components[0], PCA_components[1], alpha=.1, color='red')\n",
    "plt.scatter(PCA_components[2], PCA_components[3], alpha=.1, color='green')\n",
    "plt.scatter(PCA_components[4], PCA_components[5], alpha=.1, color='blue')\n",
    "plt.scatter(PCA_components[6], PCA_components[7], alpha=.1, color='yellow')\n",
    "plt.scatter(PCA_components[8], PCA_components[9], alpha=.1, color='black')\n",
    "\n",
    "plt.xlabel('PCA 1')\n",
    "plt.ylabel('PCA 2')"
   ]
  },
  {
   "cell_type": "code",
   "execution_count": null,
   "id": "28898e0d",
   "metadata": {},
   "outputs": [],
   "source": []
  },
  {
   "cell_type": "code",
   "execution_count": null,
   "id": "a8eddae5",
   "metadata": {},
   "outputs": [],
   "source": []
  },
  {
   "cell_type": "markdown",
   "id": "ddb0d9b4",
   "metadata": {},
   "source": [
    "# Similarity checking"
   ]
  },
  {
   "cell_type": "markdown",
   "id": "542d3ca6",
   "metadata": {},
   "source": [
    "# Word2Vec Model"
   ]
  },
  {
   "cell_type": "code",
   "execution_count": 200,
   "id": "e2cc2bba",
   "metadata": {},
   "outputs": [],
   "source": [
    "count=0\n",
    "values=[]\n",
    "j=0\n",
    "for i in word2vec_kmeans:\n",
    "    if i==1:\n",
    "        values.append(word_number[j])\n",
    "    count=count+1\n",
    "    j=j+1\n",
    "    "
   ]
  },
  {
   "cell_type": "code",
   "execution_count": 202,
   "id": "a756ee06",
   "metadata": {},
   "outputs": [],
   "source": [
    "from sklearn.metrics.pairwise import cosine_similarity"
   ]
  },
  {
   "cell_type": "code",
   "execution_count": 203,
   "id": "c26ab642",
   "metadata": {},
   "outputs": [],
   "source": [
    "values=np.array(values)"
   ]
  },
  {
   "cell_type": "code",
   "execution_count": 204,
   "id": "14e5a3b0",
   "metadata": {},
   "outputs": [
    {
     "data": {
      "text/plain": [
       "(211, 300)"
      ]
     },
     "execution_count": 204,
     "metadata": {},
     "output_type": "execute_result"
    }
   ],
   "source": [
    "values.shape"
   ]
  },
  {
   "cell_type": "code",
   "execution_count": 207,
   "id": "b4b430d4",
   "metadata": {},
   "outputs": [
    {
     "name": "stdout",
     "output_type": "stream",
     "text": [
      "[[0.51614877 0.47388836 0.43575224 0.47636274 0.42893184]\n",
      " [0.44581763 0.42969138 0.32399641 0.44475567 0.42475499]\n",
      " [0.34190917 0.31644335 0.29662032 0.3134228  0.31306306]\n",
      " [0.72280091 0.64827769 0.66258251 0.63374481 0.64251564]\n",
      " [0.79857978 0.71299765 0.77736113 0.78187861 0.6620604 ]]\n"
     ]
    }
   ],
   "source": [
    "similarity=cosine_similarity(np.array(values[0:5]),np.array(values[5:10]))\n",
    "print(similarity)"
   ]
  },
  {
   "cell_type": "code",
   "execution_count": null,
   "id": "c5122c58",
   "metadata": {},
   "outputs": [],
   "source": []
  },
  {
   "cell_type": "markdown",
   "id": "c8f69772",
   "metadata": {},
   "source": [
    "# tfIdf Model"
   ]
  },
  {
   "cell_type": "code",
   "execution_count": 208,
   "id": "14c3bab3",
   "metadata": {},
   "outputs": [],
   "source": [
    "count=0\n",
    "values=[]\n",
    "j=0\n",
    "for i in tf_idf_kmeans:\n",
    "    if i==1:\n",
    "        values.append(Y[j])\n",
    "    count=count+1\n",
    "    j=j+1\n",
    "    "
   ]
  },
  {
   "cell_type": "code",
   "execution_count": 209,
   "id": "0dadd489",
   "metadata": {},
   "outputs": [],
   "source": [
    "values=np.array(values)"
   ]
  },
  {
   "cell_type": "code",
   "execution_count": 213,
   "id": "1956494d",
   "metadata": {},
   "outputs": [],
   "source": [
    "val=[]\n",
    "for i in values:\n",
    "    val.append(i[0])"
   ]
  },
  {
   "cell_type": "code",
   "execution_count": 214,
   "id": "29fb7a88",
   "metadata": {},
   "outputs": [],
   "source": [
    "values=np.array(val)"
   ]
  },
  {
   "cell_type": "code",
   "execution_count": 215,
   "id": "363b8dc3",
   "metadata": {},
   "outputs": [
    {
     "data": {
      "text/plain": [
       "(76, 496)"
      ]
     },
     "execution_count": 215,
     "metadata": {},
     "output_type": "execute_result"
    }
   ],
   "source": [
    "values.shape"
   ]
  },
  {
   "cell_type": "code",
   "execution_count": 218,
   "id": "55d3238b",
   "metadata": {},
   "outputs": [
    {
     "name": "stdout",
     "output_type": "stream",
     "text": [
      "[[0.13090557 0.1334576  0.2607324  0.20188283 0.19626118]\n",
      " [0.26426803 0.26941999 0.38238043 0.36535638 0.35518263]\n",
      " [0.06817322 0.3425478  0.09864267 0.20437002 0.19867912]\n",
      " [0.58399239 0.18403558 0.17915461 0.17117842 0.16641177]\n",
      " [0.96749012 0.10380575 0.21393491 0.20441026 0.19871824]]\n"
     ]
    }
   ],
   "source": [
    "similarity=cosine_similarity(np.array(values[0:5]),np.array(values[5:10]))\n",
    "print(similarity)"
   ]
  },
  {
   "cell_type": "markdown",
   "id": "a53f41b5",
   "metadata": {},
   "source": [
    "# Observations"
   ]
  },
  {
   "cell_type": "markdown",
   "id": "968604e4",
   "metadata": {},
   "source": [
    "Here i do the cosine similarity on cluster value 1\n",
    "\n",
    "        1.cosine similarity value of word2vec model is higher than the tfidf model\n",
    "        \n",
    "        2.as from the above result we can say that word2vec model is better than tfidf model as the similarity matrix is high"
   ]
  }
 ],
 "metadata": {
  "kernelspec": {
   "display_name": "Python 3 (ipykernel)",
   "language": "python",
   "name": "python3"
  },
  "language_info": {
   "codemirror_mode": {
    "name": "ipython",
    "version": 3
   },
   "file_extension": ".py",
   "mimetype": "text/x-python",
   "name": "python",
   "nbconvert_exporter": "python",
   "pygments_lexer": "ipython3",
   "version": "3.9.7"
  }
 },
 "nbformat": 4,
 "nbformat_minor": 5
}
